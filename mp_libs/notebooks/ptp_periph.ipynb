{
 "cells": [
  {
   "cell_type": "code",
   "execution_count": null,
   "metadata": {},
   "outputs": [],
   "source": [
    "%load_ext micropython_magic\n",
    "%reload_ext micropython_magic"
   ]
  },
  {
   "cell_type": "code",
   "execution_count": null,
   "metadata": {},
   "outputs": [],
   "source": [
    "%mpy -s {\"/dev/cu.usbmodem_fs3_1\"}"
   ]
  },
  {
   "cell_type": "code",
   "execution_count": null,
   "metadata": {},
   "outputs": [],
   "source": [
    "# %%micropython\n",
    "\n",
    "import time\n",
    "from config import config\n",
    "from machine import RTC\n",
    "from mp_libs.network import Network\n",
    "from mp_libs.protocols import espnow_protocol\n",
    "from mp_libs.time import ptp\n",
    "\n",
    "NUM_SYNC_CYCLES = 15\n",
    "TIMEOUT_MSEC = 5000\n",
    "\n",
    "rtc = RTC()\n",
    "miniot_network = Network.create_min_iot(\"GTY\")\n",
    "epn = miniot_network.transport.transport.transport\n",
    "miniot_network.connect()\n",
    "\n",
    "print(f\"Initial RTC datetime: {rtc.datetime()}\")\n",
    "print(f\"Initial RTC now: {rtc.now()}\")\n",
    "print(f\"My MAC: {epn.wifi._sta.config('mac')}\")\n",
    "print(f\"EPN Peer: {config['epn_peer_mac']}\")\n",
    "print(f\"Initial channel: {epn.wifi._sta.config('channel')}\")\n",
    "\n",
    "# Perform espnow scan to set the right channel\n",
    "miniot_network.scan()\n",
    "print(f\"Final channel: {epn.wifi._sta.config('channel')}\")\n",
    "print(f\"EPN timeout: {epn.epn.config('timeout_ms')}\")\n",
    "\n",
    "while True:\n",
    "    # Perform periph sequence\n",
    "    timestamps = ptp.sequence_periph(\n",
    "        miniot_network,\n",
    "        lambda miniot_msg: miniot_msg.msg,\n",
    "        TIMEOUT_MSEC,\n",
    "        initiate_sync=True,\n",
    "        num_sync_cycles=NUM_SYNC_CYCLES)\n",
    "\n",
    "    # Calculate offsets\n",
    "    offsets = [ptp.calculate_offset(t1, t2, t3, t4) for t1, t2, t3, t4 in timestamps]\n",
    "\n",
    "    print(f\"timestamps: {timestamps}\")\n",
    "    print(f\"offsets: {offsets}\")\n",
    "\n",
    "    # Process offsets\n",
    "    ave_offset = ptp.process_offsets(offsets)\n",
    "\n",
    "    # Update time\n",
    "    rtc.offset(str(ave_offset).encode())\n",
    "\n",
    "    print(f\"ave_offset: {ave_offset}\")\n",
    "    print(f\"ave_offset bytes: {str(ave_offset).encode()}\")\n",
    "    print(f\"now: {rtc.datetime()}\")\n",
    "\n",
    "    time.sleep(15)\n"
   ]
  }
 ],
 "metadata": {
  "kernelspec": {
   "display_name": ".venv",
   "language": "python",
   "name": "python3"
  },
  "language_info": {
   "codemirror_mode": {
    "name": "ipython",
    "version": 3
   },
   "file_extension": ".py",
   "mimetype": "text/x-python",
   "name": "python",
   "nbconvert_exporter": "python",
   "pygments_lexer": "ipython3",
   "version": "3.11.9"
  }
 },
 "nbformat": 4,
 "nbformat_minor": 2
}
