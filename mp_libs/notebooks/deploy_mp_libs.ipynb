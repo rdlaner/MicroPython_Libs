{
 "cells": [
  {
   "cell_type": "code",
   "execution_count": null,
   "metadata": {},
   "outputs": [],
   "source": [
    "%load_ext micropython_magic\n",
    "%reload_ext micropython_magic"
   ]
  },
  {
   "cell_type": "code",
   "execution_count": null,
   "metadata": {},
   "outputs": [],
   "source": [
    "# %mpy -s {\"/dev/cu.usbmodem_fs3_1\"}\n",
    "%mpy -s {\"/dev/cu.usbmodem1234561\"}"
   ]
  },
  {
   "cell_type": "code",
   "execution_count": null,
   "metadata": {},
   "outputs": [],
   "source": [
    "import os\n",
    "from contextlib import contextmanager\n",
    "from pathlib import Path\n",
    "\n",
    "@contextmanager\n",
    "def cd(new_dir: str):\n",
    "    original_dir = os.getcwd()\n",
    "\n",
    "    try:\n",
    "        os.chdir(new_dir)\n",
    "        yield\n",
    "    finally:\n",
    "        os.chdir(original_dir)\n",
    "\n",
    "# Create mp_libs dir in case it doesn't already exist\n",
    "_ = !mpremote mkdir :/mp_libs || true\n",
    "\n",
    "# Change directories to mp_libs root dir\n",
    "notebooks_dir = Path(os.getcwd())\n",
    "mp_libs_dir = notebooks_dir.parent\n",
    "\n",
    "files = []\n",
    "dirs = []\n",
    "with cd(mp_libs_dir):\n",
    "    # Get list of mp_libs files\n",
    "    for path in Path(\".\").rglob(\"*\"):\n",
    "        if path.is_file() and path.suffix == \".py\":\n",
    "            files.append(path)\n",
    "        if path.is_dir():\n",
    "            dirs.append(path)\n",
    "\n",
    "    # Create all sub-dirs\n",
    "    for d in dirs:\n",
    "        _ = !mpremote mkdir :mp_libs/\"{d}\" || true\n",
    "\n",
    "    # Copy all mp_libs files over\n",
    "    for f in files:\n",
    "        base_dir = f\"mp_libs/{f.parent if f.parent != Path('.') else ''}/\"\n",
    "        !mpremote cp \"{f}\" :\"{base_dir}\"\n",
    "\n"
   ]
  }
 ],
 "metadata": {
  "language_info": {
   "name": "python"
  }
 },
 "nbformat": 4,
 "nbformat_minor": 2
}
