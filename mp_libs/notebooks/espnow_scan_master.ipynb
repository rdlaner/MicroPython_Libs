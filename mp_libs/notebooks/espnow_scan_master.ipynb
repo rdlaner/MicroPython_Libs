{
 "cells": [
  {
   "cell_type": "code",
   "execution_count": null,
   "metadata": {},
   "outputs": [],
   "source": [
    "%load_ext micropython_magic\n",
    "%reload_ext micropython_magic"
   ]
  },
  {
   "cell_type": "code",
   "execution_count": null,
   "metadata": {},
   "outputs": [],
   "source": [
    "%mpy -s {\"/dev/cu.usbmodem_fs3_1\"}"
   ]
  },
  {
   "cell_type": "code",
   "execution_count": null,
   "metadata": {},
   "outputs": [],
   "source": [
    "# %%micropython\n",
    "\n",
    "import time\n",
    "from config import config\n",
    "from mp_libs.network import Network\n",
    "from mp_libs.protocols import espnow_protocol\n",
    "\n",
    "epn = Network.create_espnow(\"SCN\")\n",
    "epn.connect()\n",
    "\n",
    "print(epn.transport.wifi._sta.config(\"channel\"))\n",
    "print(f\"My MAC: {epn.transport.wifi._sta.config('mac')}\")\n",
    "print(f\"EPN Peer: {config['epn_peer_mac']}\")\n",
    "\n",
    "\n",
    "while True:\n",
    "    rxed_data = []\n",
    "    epn.receive(rxed_data)\n",
    "    if rxed_data:\n",
    "        print(f\"rxed_data: {rxed_data}\")\n",
    "    time.sleep_ms(100)\n"
   ]
  }
 ],
 "metadata": {
  "kernelspec": {
   "display_name": ".venv",
   "language": "python",
   "name": "python3"
  },
  "language_info": {
   "codemirror_mode": {
    "name": "ipython",
    "version": 3
   },
   "file_extension": ".py",
   "mimetype": "text/x-python",
   "name": "python",
   "nbconvert_exporter": "python",
   "pygments_lexer": "ipython3",
   "version": "3.11.9"
  }
 },
 "nbformat": 4,
 "nbformat_minor": 2
}
