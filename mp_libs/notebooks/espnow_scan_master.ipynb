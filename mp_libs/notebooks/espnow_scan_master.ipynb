{
 "cells": [
  {
   "cell_type": "code",
   "execution_count": 1,
   "metadata": {},
   "outputs": [],
   "source": [
    "%load_ext micropython_magic\n",
    "%reload_ext micropython_magic"
   ]
  },
  {
   "cell_type": "code",
   "execution_count": 2,
   "metadata": {},
   "outputs": [],
   "source": [
    "%mpy -s {\"/dev/cu.usbmodem1234561\"}"
   ]
  },
  {
   "cell_type": "code",
   "execution_count": 11,
   "metadata": {},
   "outputs": [
    {
     "name": "stdout",
     "output_type": "stream",
     "text": [
      "2000-01-01 00:34:38.2079195 INFO-wifi-protocols:Disconnecting wifi...\n",
      "2000-01-01 00:34:38.2079198 DEBUG-espnow-protocol:espnow configured\n",
      "2000-01-01 00:34:38.2079199 INFO-espnow-protocol:Connecting espnow...\n",
      "11\n",
      "My MAC: b\"H'\\xe2\\xc7n\\xfc\"\n",
      "EPN Peer: b'p\\x04\\x1d\\xad|\\xc0'\n",
      "2000-01-01 00:34:46.2086807 DEBUG-espnow-protocol:Processing packet: <EspnowPacket object at 3c1876e0>\n",
      "2000-01-01 00:34:46.2086809 DEBUG-espnow-protocol:Sending SCAN RESP\n",
      "2000-01-01 00:34:56.2097219 DEBUG-espnow-protocol:Processing packet: <EspnowPacket object at 3c18dea0>\n",
      "2000-01-01 00:34:56.2097220 DEBUG-espnow-protocol:Sending SCAN RESP\n",
      "\u001b[33m\u001b[1mWARNING \u001b[0m | \u001b[36mmicropython_magic.interactive\u001b[0m:\u001b[36mipython_run\u001b[0m:\u001b[36m163\u001b[0m - \u001b[33m\u001b[1mKeyboard interrupt detected\u001b[0m\n"
     ]
    }
   ],
   "source": [
    "# %%micropython\n",
    "\n",
    "import time\n",
    "from config import config\n",
    "from mp_libs.network import Network\n",
    "from mp_libs.protocols import espnow_protocol\n",
    "\n",
    "epn = Network.create_espnow(\"SCN\")\n",
    "epn.connect()\n",
    "\n",
    "print(epn.transport.wifi._sta.config(\"channel\"))\n",
    "print(f\"My MAC: {epn.transport.wifi._sta.config('mac')}\")\n",
    "print(f\"EPN Peer: {config['epn_peer_mac']}\")\n",
    "\n",
    "\n",
    "while True:\n",
    "    rxed_data = []\n",
    "    epn.receive(rxed_data)\n",
    "    time.sleep_ms(100)\n"
   ]
  }
 ],
 "metadata": {
  "kernelspec": {
   "display_name": ".venv",
   "language": "python",
   "name": "python3"
  },
  "language_info": {
   "codemirror_mode": {
    "name": "ipython",
    "version": 3
   },
   "file_extension": ".py",
   "mimetype": "text/x-python",
   "name": "python",
   "nbconvert_exporter": "python",
   "pygments_lexer": "ipython3",
   "version": "3.11.3"
  }
 },
 "nbformat": 4,
 "nbformat_minor": 2
}
