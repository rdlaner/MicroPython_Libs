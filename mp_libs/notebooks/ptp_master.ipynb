{
 "cells": [
  {
   "cell_type": "code",
   "execution_count": null,
   "metadata": {},
   "outputs": [],
   "source": [
    "%load_ext micropython_magic\n",
    "%reload_ext micropython_magic"
   ]
  },
  {
   "cell_type": "code",
   "execution_count": null,
   "metadata": {},
   "outputs": [],
   "source": [
    "%mpy -s {\"/dev/cu.usbmodem1234561\"}"
   ]
  },
  {
   "cell_type": "markdown",
   "metadata": {},
   "source": []
  },
  {
   "cell_type": "code",
   "execution_count": null,
   "metadata": {},
   "outputs": [],
   "source": [
    "# %%micropython\n",
    "\n",
    "import time\n",
    "from config import config\n",
    "from secrets import secrets\n",
    "from machine import RTC\n",
    "from mp_libs.network import Network\n",
    "from mp_libs.protocols import espnow_protocol\n",
    "from mp_libs.protocols import min_iot_protocol\n",
    "from mp_libs.protocols.wifi_protocols import WifiProtocol\n",
    "from mp_libs.time import ptp\n",
    "\n",
    "TIMEOUT_MSEC = 5000\n",
    "\n",
    "rtc = RTC()\n",
    "wifi = Network.create_wifi()\n",
    "miniot_network = Network.create_min_iot(\"GTY\")\n",
    "epn = miniot_network.transport.transport.transport\n",
    "\n",
    "wifi.connect()\n",
    "miniot_network.connect()\n",
    "wifi.ntp_time_sync()\n",
    "\n",
    "print(f\"Initial RTC datetime: {rtc.datetime()}\")\n",
    "print(f\"Initial RTC now: {rtc.now()}\")\n",
    "print(f\"My MAC: {epn.wifi._sta.config('mac')}\")\n",
    "print(f\"EPN Peer: {config['epn_peer_mac']}\")\n",
    "print(f\"Channel: {epn.wifi._sta.config('channel')}\")\n",
    "print(f\"EPN timeout: {epn.epn.config('timeout_ms')}\")\n",
    "\n",
    "while True:\n",
    "    num_sync_cycles = 1\n",
    "    rxed_packets = []\n",
    "    data_available = False\n",
    "\n",
    "    # Receive data\n",
    "    while not data_available:\n",
    "        data_available = miniot_network.receive(rxed_packets)\n",
    "        time.sleep_ms(100)\n",
    "\n",
    "    # Parse rx'ed packets\n",
    "    for packet in rxed_packets:\n",
    "        if ptp.is_ptp_msg(packet.msg):\n",
    "            ptp_type, payload = ptp.parse_msg(packet.msg)\n",
    "        else:\n",
    "            print(f\"Rx'ed unexpected message: {packet}\")\n",
    "            continue\n",
    "\n",
    "        # Perform PTP sync\n",
    "        print(f\"ptp_type: {ptp_type}, payload: {payload}\")\n",
    "        if ptp_type == ptp.PtpMsg.SYNC_REQ:\n",
    "            ptp.sequence_master(\n",
    "                miniot_network,\n",
    "                lambda miniot_msg: miniot_msg.msg,\n",
    "                TIMEOUT_MSEC,\n",
    "                num_sync_cycles=payload)\n",
    "\n",
    "            print(f\"now: {rtc.datetime()}\")\n"
   ]
  }
 ],
 "metadata": {
  "kernelspec": {
   "display_name": ".venv",
   "language": "python",
   "name": "python3"
  },
  "language_info": {
   "codemirror_mode": {
    "name": "ipython",
    "version": 3
   },
   "file_extension": ".py",
   "mimetype": "text/x-python",
   "name": "python",
   "nbconvert_exporter": "python",
   "pygments_lexer": "ipython3",
   "version": "3.11.9"
  }
 },
 "nbformat": 4,
 "nbformat_minor": 2
}
