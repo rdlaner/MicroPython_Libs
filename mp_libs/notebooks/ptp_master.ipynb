{
 "cells": [
  {
   "cell_type": "code",
   "execution_count": 6,
   "metadata": {},
   "outputs": [
    {
     "name": "stdout",
     "output_type": "stream",
     "text": [
      "The micropython_magic extension is already loaded. To reload it, use:\n",
      "  %reload_ext micropython_magic\n",
      "Current ip.InteractiveTB.mode='Minimal'\n"
     ]
    }
   ],
   "source": [
    "%load_ext micropython_magic\n",
    "%reload_ext micropython_magic"
   ]
  },
  {
   "cell_type": "code",
   "execution_count": 18,
   "metadata": {},
   "outputs": [],
   "source": [
    "# %mpy -s {\"/dev/cu.usbmodem1234561\"}\n",
    "%mpy -s {\"/dev/cu.usbmodem2101\"}"
   ]
  },
  {
   "cell_type": "code",
   "execution_count": 26,
   "metadata": {},
   "outputs": [
    {
     "name": "stdout",
     "output_type": "stream",
     "text": [
      "2000-01-01 00:00:05.5981 INFO-wifi-protocols:Disconnecting wifi...\n",
      "2000-01-01 00:00:05.5986 INFO-wifi-protocols:Connecting wifi...\n",
      "2000-01-01 00:00:10.10765 INFO-wifi-protocols:Wifi is connected: ('192.168.0.45', '255.255.255.0', '192.168.0.1', '192.168.0.1')\n",
      "2000-01-01 00:00:10.10768 INFO-miniot:Connecting MinIoT...\n",
      "2000-01-01 00:00:10.10770 INFO-espnow-protocol:Connecting espnow...\n",
      "Initial RTC datetime: (2025, 3, 10, 0, 0, 13, 10, 72)\n",
      "Initial RTC now: 794880790000885\n",
      "My MAC: b\"H'\\xe2\\xc7n\\xfc\"\n",
      "EPN Peer: b'p\\x04\\x1d\\xad|\\xc0'\n",
      "Channel: 9\n",
      "EPN timeout: 0\n",
      "now: (2025, 3, 10, 0, 0, 13, 12, 608716)\n",
      "RTC now: 794880792609812\n",
      "now: (2025, 3, 10, 0, 0, 13, 28, 838517)\n",
      "RTC now: 794880808839556\n",
      "now: (2025, 3, 10, 0, 0, 13, 44, 968987)\n",
      "RTC now: 794880824969714\n",
      "now: (2025, 3, 10, 0, 0, 14, 1, 231811)\n",
      "RTC now: 794880841232486\n",
      "now: (2025, 3, 10, 0, 0, 14, 17, 325742)\n",
      "RTC now: 794880857326839\n",
      "now: (2025, 3, 10, 0, 0, 14, 33, 444836)\n",
      "RTC now: 794880873445803\n",
      "now: (2025, 3, 10, 0, 0, 14, 49, 560864)\n",
      "RTC now: 794880889561708\n",
      "now: (2025, 3, 10, 0, 0, 15, 5, 694297)\n",
      "RTC now: 794880905695328\n",
      "now: (2025, 3, 10, 0, 0, 15, 21, 811786)\n",
      "RTC now: 794880921813192\n",
      "now: (2025, 3, 10, 0, 0, 15, 38, 49834)\n",
      "RTC now: 794880938050646\n",
      "now: (2025, 3, 10, 0, 0, 15, 54, 145678)\n",
      "RTC now: 794880954146717\n",
      "now: (2025, 3, 10, 0, 0, 16, 10, 311714)\n",
      "RTC now: 794880970312752\n",
      "now: (2025, 3, 10, 0, 0, 16, 26, 436391)\n",
      "RTC now: 794880986437286\n",
      "now: (2025, 3, 10, 0, 0, 16, 42, 617202)\n",
      "RTC now: 794881002618126\n",
      "now: (2025, 3, 10, 0, 0, 16, 58, 755277)\n",
      "RTC now: 794881018756324\n",
      "now: (2025, 3, 10, 0, 0, 17, 14, 866358)\n",
      "RTC now: 794881034867202\n",
      "now: (2025, 3, 10, 0, 0, 17, 30, 979189)\n",
      "RTC now: 794881050980185\n",
      "now: (2025, 3, 10, 0, 0, 17, 47, 92813)\n",
      "RTC now: 794881067093639\n"
     ]
    }
   ],
   "source": [
    "# %%micropython\n",
    "\n",
    "import time\n",
    "from config import config\n",
    "from secrets import secrets\n",
    "from machine import RTC\n",
    "from mp_libs.network import Network\n",
    "from mp_libs.protocols import espnow_protocol\n",
    "from mp_libs.protocols import min_iot_protocol\n",
    "from mp_libs.protocols.wifi_protocols import WifiProtocol\n",
    "from mp_libs.time import ptp\n",
    "\n",
    "TIMEOUT_MSEC = 5000\n",
    "\n",
    "rtc = RTC()\n",
    "wifi = Network.create_wifi()\n",
    "miniot_network = Network.create_min_iot(\"GTY\")\n",
    "epn = miniot_network.transport.transport._transport\n",
    "\n",
    "wifi.connect()\n",
    "miniot_network.connect()\n",
    "wifi.ntp_time_sync()\n",
    "\n",
    "print(f\"Initial RTC datetime: {rtc.datetime()}\")\n",
    "print(f\"Initial RTC now: {rtc.now()}\")\n",
    "print(f\"My MAC: {epn.wifi._sta.config('mac')}\")\n",
    "print(f\"EPN Peer: {config['epn_peer_mac']}\")\n",
    "print(f\"Channel: {epn.wifi._sta.config('channel')}\")\n",
    "print(f\"EPN timeout: {epn.epn.config('timeout_ms')}\")\n",
    "\n",
    "while True:\n",
    "    rxed_packets = []\n",
    "    data_available = False\n",
    "\n",
    "    # Receive data\n",
    "    while not data_available:\n",
    "        data_available = miniot_network.receive(rxed_packets)\n",
    "        time.sleep_ms(100)\n",
    "\n",
    "    # Parse rx'ed packets\n",
    "    for packet in rxed_packets:\n",
    "        if ptp.is_ptp_msg(packet.msg):\n",
    "            ptp_type, payload = ptp.parse_msg(packet.msg)\n",
    "        else:\n",
    "            print(f\"Rx'ed unexpected message: {packet}\")\n",
    "            continue\n",
    "\n",
    "        # Perform PTP sync\n",
    "        if ptp_type == ptp.PtpMsg.SYNC_REQ:\n",
    "            ptp.sequence_master(\n",
    "                miniot_network,\n",
    "                lambda miniot_msg: miniot_msg.msg,\n",
    "                TIMEOUT_MSEC,\n",
    "                num_sync_cycles=payload)\n",
    "\n",
    "            print(f\"now: {rtc.datetime()}\")\n",
    "            print(f\"RTC now: {rtc.now()}\")\n"
   ]
  }
 ],
 "metadata": {
  "kernelspec": {
   "display_name": ".venv",
   "language": "python",
   "name": "python3"
  },
  "language_info": {
   "codemirror_mode": {
    "name": "ipython",
    "version": 3
   },
   "file_extension": ".py",
   "mimetype": "text/x-python",
   "name": "python",
   "nbconvert_exporter": "python",
   "pygments_lexer": "ipython3",
   "version": "3.11.9"
  }
 },
 "nbformat": 4,
 "nbformat_minor": 2
}
