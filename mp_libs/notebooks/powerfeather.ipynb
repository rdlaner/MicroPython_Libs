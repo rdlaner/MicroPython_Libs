{
 "cells": [
  {
   "cell_type": "code",
   "execution_count": null,
   "metadata": {},
   "outputs": [],
   "source": [
    "%load_ext micropython_magic\n",
    "%reload_ext micropython_magic"
   ]
  },
  {
   "cell_type": "code",
   "execution_count": null,
   "metadata": {},
   "outputs": [],
   "source": [
    "!mpremote cp -r ../../mp_libs/power :"
   ]
  },
  {
   "cell_type": "code",
   "execution_count": null,
   "metadata": {},
   "outputs": [],
   "source": [
    "# %%micropython\n",
    "\n",
    "import time\n",
    "from machine import Pin\n",
    "from mp_libs.power import powerfeather\n",
    "from mp_libs.power import bq2562x as bq\n",
    "from mp_libs.power import lc709204f as fg\n",
    "\n",
    "pf = powerfeather.PowerFeather(batt_type=powerfeather.BatteryType.GENERIC_3V7, batt_cap=1050)\n",
    "\n",
    "def cb_button(pin: Pin) -> None:\n",
    "    print(\"Button Pressed! Toggling charging.\")\n",
    "    if pf._charger.charging_enable:\n",
    "        pf.batt_charging_enable(False)\n",
    "    else:\n",
    "        pf.batt_charging_enable(True)\n",
    "\n",
    "pf.register_button_irq(cb_button)\n",
    "term_current = pf._charger.term_current\n",
    "supply_voltage = 0\n",
    "supply_current = 0\n",
    "batt_voltage = 0\n",
    "batt_current = 0\n",
    "batt_charge = 0\n",
    "batt_cycles = 0\n",
    "batt_health = 0\n",
    "batt_time_left = 0\n",
    "status = None\n",
    "\n",
    "while True:\n",
    "    pf.led_toggle()\n",
    "\n",
    "    # These commands use the batt charger IC and therefore don't require a batt connected to work.\n",
    "    supply_voltage = pf.supply_voltage()\n",
    "    supply_current = pf.supply_current()\n",
    "    batt_current = pf.batt_current()\n",
    "    status = pf.batt_charging_status()\n",
    "\n",
    "    # These commands use the fuel gauge IC and therefore require a battery to be connected in order to work.\n",
    "    try:\n",
    "        batt_voltage = pf.batt_voltage()\n",
    "        batt_charge = pf.batt_charge()\n",
    "        batt_cycles = pf.batt_cycles()\n",
    "        batt_health = pf.batt_health()\n",
    "        batt_time_left = pf.batt_time_left()\n",
    "    except (powerfeather.BatteryError, fg.FuelGaugeError):\n",
    "        pass\n",
    "\n",
    "    print(f\"[Supply]  Voltage: {supply_voltage} mV\\t\\tCurrent: {supply_current} mA\\t\\tPower: {supply_voltage * supply_current / 1_000_000.0:.2f} W\")\n",
    "    print(f\"[Battery] Voltage: {batt_voltage} mv\\t\\tCurrent: {batt_current} mA\\t\\tPower: {batt_voltage * batt_current / 1_000_000.0:.2f} W\")\n",
    "    print(f\"[Battery] Charge: {batt_charge}%\\tCycles: {batt_cycles}\\tHealth: {batt_health}%\\tStatus: {status}\\tTerm: {term_current} mA\")\n",
    "    print(f\"Time Left: {batt_time_left} min\")\n",
    "\n",
    "    time.sleep_ms(300)\n"
   ]
  }
 ],
 "metadata": {
  "kernelspec": {
   "display_name": ".venv",
   "language": "python",
   "name": "python3"
  },
  "language_info": {
   "codemirror_mode": {
    "name": "ipython",
    "version": 3
   },
   "file_extension": ".py",
   "mimetype": "text/x-python",
   "name": "python",
   "nbconvert_exporter": "python",
   "pygments_lexer": "ipython3",
   "version": "3.11.9"
  }
 },
 "nbformat": 4,
 "nbformat_minor": 2
}
